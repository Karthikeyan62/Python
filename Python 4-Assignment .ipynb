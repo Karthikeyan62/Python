{
 "cells": [
  {
   "cell_type": "markdown",
   "id": "99cca18f",
   "metadata": {},
   "source": [
    "1.2 Write a function filter_long_words() that takes a list of words and an integer n and returns\n",
    "the list of words that are longer than n."
   ]
  },
  {
   "cell_type": "code",
   "execution_count": 5,
   "id": "48c97516",
   "metadata": {},
   "outputs": [
    {
     "name": "stdout",
     "output_type": "stream",
     "text": [
      "Enter your integer\n",
      "4\n",
      "Words longer than intger\n",
      "karthi\n",
      "keyan\n"
     ]
    }
   ],
   "source": [
    "def long_words(list):\n",
    "    print(\"Enter your integer\")\n",
    "    num=int(input())\n",
    "    print(\"Words longer than intger\")\n",
    "    for i in list:\n",
    "        if (len(i))>num:\n",
    "            print(i)\n",
    "list=[\"karthi\",\"keyan\",\"SK\"]\n",
    "long_words(list)"
   ]
  },
  {
   "cell_type": "markdown",
   "id": "7967d95b",
   "metadata": {},
   "source": [
    "Write a Python program using function concept that maps list of words into a list of integers\n",
    "representing the lengths of the corresponding words.\n",
    "Hint: If a list [ ab,cde,erty] is passed on to the python function output should come as [2,3,4]\n",
    "Here 2,3 and 4 are the lengths of the words in the list."
   ]
  },
  {
   "cell_type": "code",
   "execution_count": 6,
   "id": "7c32d999",
   "metadata": {},
   "outputs": [
    {
     "name": "stdout",
     "output_type": "stream",
     "text": [
      "Karthi,keyan,sk\n",
      "[6, 5, 2]\n"
     ]
    }
   ],
   "source": [
    "def Cnletter():\n",
    "    a=input()\n",
    "    b=[]\n",
    "    c=[]\n",
    "    b.append(a.split(sep=','))\n",
    "    for l in b:\n",
    "        for i in l:\n",
    "            c.append(len(i))\n",
    "        print(c)\n",
    "Cnletter()"
   ]
  },
  {
   "cell_type": "markdown",
   "id": "3041ec3b",
   "metadata": {},
   "source": [
    "##2.2 Write a Python function which takes a character (i.e. a string of length 1) and returns True if\n",
    "it is a vowel, False otherwise.##"
   ]
  },
  {
   "cell_type": "code",
   "execution_count": 24,
   "id": "a6be393b",
   "metadata": {
    "scrolled": true
   },
   "outputs": [
    {
     "name": "stdout",
     "output_type": "stream",
     "text": [
      "Enter your string:\n",
      "a\n",
      "given letter is vowel\n"
     ]
    }
   ],
   "source": [
    "def vowel():\n",
    "    print(\"Enter your string:\")\n",
    "    string=input()\n",
    "    vowels=\"a,e,i,o,u\"\n",
    "    for i in vowels:\n",
    "        if i==string:\n",
    "            print(\"given letter is vowel\")\n",
    "            break\n",
    "    else:\n",
    "        print(\"given letter is not vowel\")\n",
    "vowel()"
   ]
  },
  {
   "cell_type": "code",
   "execution_count": null,
   "id": "12190b56",
   "metadata": {},
   "outputs": [],
   "source": []
  },
  {
   "cell_type": "code",
   "execution_count": 34,
   "id": "9a36f115",
   "metadata": {},
   "outputs": [
    {
     "name": "stdout",
     "output_type": "stream",
     "text": [
      "Incorrect entry - Not a Triangle when one side is bigger than the other two combined\n"
     ]
    }
   ],
   "source": [
    "class Shape:\n",
    "    def __init__(self, a,b,c):\n",
    "        self.a = a\n",
    "        self.b = b\n",
    "        self.c = c\n",
    "        self.sides=[] \n",
    "    def setsides(self):\n",
    "        self.sides = [self.a,self.b,self.c]\n",
    "        return self.sides \n",
    "class Triangle(Shape):\n",
    "    def __init__(self,a,b,c):\n",
    "        Shape.__init__(self,a,b,c)\n",
    "        super(Triangle,self).__init__(a,b,c)\n",
    "    def findArea(self):\n",
    "        s = (self.a+self.b+self.c)/2\n",
    "        area = (s*(s-self.a)*(s-self.b)*(s-self.c)) ** 0.5\n",
    "        try:\n",
    "            print('The area of the triangle is %0.2f' %area) \n",
    "        except:\n",
    "            print('Incorrect entry - Not a Triangle when one side is bigger than the other two combined') \n",
    "\n",
    "t = Triangle(1,11,2)\n",
    "t.findArea()\n"
   ]
  },
  {
   "cell_type": "code",
   "execution_count": 39,
   "id": "acb1e973",
   "metadata": {},
   "outputs": [
    {
     "name": "stdout",
     "output_type": "stream",
     "text": [
      "The area of the triangle is 4.49\n"
     ]
    }
   ],
   "source": [
    "t = Triangle(1,9,9)\n",
    "t.findArea()"
   ]
  },
  {
   "cell_type": "code",
   "execution_count": null,
   "id": "7927c5d1",
   "metadata": {},
   "outputs": [],
   "source": []
  }
 ],
 "metadata": {
  "kernelspec": {
   "display_name": "Python 3 (ipykernel)",
   "language": "python",
   "name": "python3"
  },
  "language_info": {
   "codemirror_mode": {
    "name": "ipython",
    "version": 3
   },
   "file_extension": ".py",
   "mimetype": "text/x-python",
   "name": "python",
   "nbconvert_exporter": "python",
   "pygments_lexer": "ipython3",
   "version": "3.11.3"
  }
 },
 "nbformat": 4,
 "nbformat_minor": 5
}
